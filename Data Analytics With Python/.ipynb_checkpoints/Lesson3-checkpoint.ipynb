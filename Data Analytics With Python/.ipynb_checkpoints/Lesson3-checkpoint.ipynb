{
 "cells": [
  {
   "cell_type": "markdown",
   "metadata": {},
   "source": [
    "### Lesson 3 - Lists, Tuples, and the slicing syntax"
   ]
  },
  {
   "cell_type": "code",
   "execution_count": 1,
   "metadata": {},
   "outputs": [],
   "source": [
    "import math\n",
    "import collections\n",
    "\n",
    "import numpy as np\n",
    "import pandas as pd\n",
    "import matplotlib.pyplot as pp\n",
    "\n",
    "%matplotlib inline"
   ]
  },
  {
   "cell_type": "code",
   "execution_count": 2,
   "metadata": {},
   "outputs": [],
   "source": [
    "nephews = ['Daniel','Clyde','Simon','Jane','Louise','Ange']"
   ]
  },
  {
   "cell_type": "code",
   "execution_count": 6,
   "metadata": {},
   "outputs": [
    {
     "data": {
      "text/plain": [
       "'Jane'"
      ]
     },
     "execution_count": 6,
     "metadata": {},
     "output_type": "execute_result"
    }
   ],
   "source": [
    "nephews[-3]"
   ]
  },
  {
   "cell_type": "code",
   "execution_count": 7,
   "metadata": {},
   "outputs": [
    {
     "name": "stdout",
     "output_type": "stream",
     "text": [
      "Daniel\n",
      "Clyde\n",
      "Simon\n",
      "Jane\n",
      "Louise\n",
      "Ange\n"
     ]
    }
   ],
   "source": [
    "for i in nephews:\n",
    "    print(i)"
   ]
  },
  {
   "cell_type": "code",
   "execution_count": 10,
   "metadata": {},
   "outputs": [],
   "source": [
    "nephews.append('Stephanie') #add to a list (single element)"
   ]
  },
  {
   "cell_type": "code",
   "execution_count": 12,
   "metadata": {},
   "outputs": [
    {
     "data": {
      "text/plain": [
       "['Daniel',\n",
       " 'Clyde',\n",
       " 'Simon',\n",
       " 'Jane',\n",
       " 'Louise',\n",
       " 'Ange',\n",
       " 'Stephanie',\n",
       " 'Stephanie']"
      ]
     },
     "execution_count": 12,
     "metadata": {},
     "output_type": "execute_result"
    }
   ],
   "source": [
    "nephews"
   ]
  },
  {
   "cell_type": "code",
   "execution_count": 13,
   "metadata": {},
   "outputs": [],
   "source": [
    "#To add multiple elements at a go, use extend:\n",
    "nephews.extend(['Lynet','Sarah','Dorothy'])"
   ]
  },
  {
   "cell_type": "code",
   "execution_count": 14,
   "metadata": {},
   "outputs": [
    {
     "data": {
      "text/plain": [
       "['Daniel',\n",
       " 'Clyde',\n",
       " 'Simon',\n",
       " 'Jane',\n",
       " 'Louise',\n",
       " 'Ange',\n",
       " 'Stephanie',\n",
       " 'Stephanie',\n",
       " 'Lynet',\n",
       " 'Sarah',\n",
       " 'Dorothy']"
      ]
     },
     "execution_count": 14,
     "metadata": {},
     "output_type": "execute_result"
    }
   ],
   "source": [
    "nephews\n"
   ]
  },
  {
   "cell_type": "code",
   "execution_count": 19,
   "metadata": {},
   "outputs": [
    {
     "data": {
      "text/plain": [
       "['Daniel',\n",
       " 'Clyde',\n",
       " 'Simon',\n",
       " 'Jane',\n",
       " 'Louise',\n",
       " 'Ange',\n",
       " 'Stephanie',\n",
       " 'Stephanie',\n",
       " 'Lynet',\n",
       " 'Sarah',\n",
       " 'Dorothy',\n",
       " 'Claudette',\n",
       " 'Jeanette',\n",
       " 'Mwamikazi']"
      ]
     },
     "execution_count": 19,
     "metadata": {},
     "output_type": "execute_result"
    }
   ],
   "source": [
    "#concatenation = operator overloading in python\n",
    "nieces = ['Claudette','Jeanette','Mwamikazi']\n",
    "family = nephews + nieces\n",
    "family"
   ]
  },
  {
   "cell_type": "code",
   "execution_count": 21,
   "metadata": {},
   "outputs": [
    {
     "data": {
      "text/plain": [
       "['Daniel',\n",
       " 'Clyde',\n",
       " 'Simon',\n",
       " 'Jane',\n",
       " 'Louise',\n",
       " 'Ange',\n",
       " 'Grace',\n",
       " 'Stephanie',\n",
       " 'Stephanie',\n",
       " 'Lynet',\n",
       " 'Sarah',\n",
       " 'Dorothy',\n",
       " 'Claudette',\n",
       " 'Jeanette',\n",
       " 'Mwamikazi']"
      ]
     },
     "execution_count": 21,
     "metadata": {},
     "output_type": "execute_result"
    }
   ],
   "source": [
    "family.insert(6,'Grace')\n",
    "family"
   ]
  },
  {
   "cell_type": "code",
   "execution_count": 20,
   "metadata": {},
   "outputs": [],
   "source": [
    "#removing elements"
   ]
  },
  {
   "cell_type": "code",
   "execution_count": 24,
   "metadata": {},
   "outputs": [
    {
     "data": {
      "text/plain": [
       "['Daniel',\n",
       " 'Clyde',\n",
       " 'Simon',\n",
       " 'Jane',\n",
       " 'Louise',\n",
       " 'Ange',\n",
       " 'Grace',\n",
       " 'Lynet',\n",
       " 'Sarah',\n",
       " 'Dorothy',\n",
       " 'Claudette',\n",
       " 'Jeanette',\n",
       " 'Mwamikazi']"
      ]
     },
     "execution_count": 24,
     "metadata": {},
     "output_type": "execute_result"
    }
   ],
   "source": [
    "del family[7]  #removes an element from the stated index\n",
    "family"
   ]
  },
  {
   "cell_type": "code",
   "execution_count": null,
   "metadata": {},
   "outputs": [],
   "source": []
  }
 ],
 "metadata": {
  "kernelspec": {
   "display_name": "Python 3",
   "language": "python",
   "name": "python3"
  },
  "language_info": {
   "codemirror_mode": {
    "name": "ipython",
    "version": 3
   },
   "file_extension": ".py",
   "mimetype": "text/x-python",
   "name": "python",
   "nbconvert_exporter": "python",
   "pygments_lexer": "ipython3",
   "version": "3.8.3"
  }
 },
 "nbformat": 4,
 "nbformat_minor": 4
}
