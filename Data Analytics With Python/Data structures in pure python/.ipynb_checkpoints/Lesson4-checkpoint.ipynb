{
 "cells": [
  {
   "cell_type": "markdown",
   "metadata": {},
   "source": [
    "### Lesson 4: Dictionaries and sets"
   ]
  },
  {
   "cell_type": "code",
   "execution_count": 1,
   "metadata": {},
   "outputs": [],
   "source": [
    "import math\n",
    "import collections\n",
    "\n",
    "import numpy as np\n",
    "import pandas as pd\n",
    "import matplotlib.pyplot as pp\n",
    "\n",
    "%matplotlib inline"
   ]
  },
  {
   "cell_type": "code",
   "execution_count": 2,
   "metadata": {},
   "outputs": [
    {
     "data": {
      "text/plain": [
       "{'United States': 'Washington,DC',\n",
       " 'Kenya': 'Nairobi',\n",
       " 'Rwanda': 'Kigali',\n",
       " 'Gambia': 'Bangui',\n",
       " 'Nigeria': 'Abuja',\n",
       " 'Tanzania': 'Dodoma',\n",
       " 'Uganda': 'Kampala',\n",
       " 'South Sudan': 'Juba'}"
      ]
     },
     "execution_count": 2,
     "metadata": {},
     "output_type": "execute_result"
    }
   ],
   "source": [
    "capitals = {\"United States\":\"Washington,DC\",\"Kenya\":\"Nairobi\",\n",
    "           \"Rwanda\":\"Kigali\",\"Gambia\":\"Bangui\",\"Nigeria\":\"Abuja\",\n",
    "           \"Tanzania\":\"Dodoma\",\"Uganda\":\"Kampala\",\"South Sudan\":\"Juba\"}\n",
    "capitals"
   ]
  },
  {
   "cell_type": "code",
   "execution_count": 7,
   "metadata": {},
   "outputs": [
    {
     "data": {
      "text/plain": [
       "(True, False)"
      ]
     },
     "execution_count": 7,
     "metadata": {},
     "output_type": "execute_result"
    }
   ],
   "source": [
    "'Kenya' in capitals, 'Egypt' in capitals  #checking if an items exists in the dict"
   ]
  },
  {
   "cell_type": "code",
   "execution_count": 9,
   "metadata": {},
   "outputs": [
    {
     "data": {
      "text/plain": [
       "{'Zimbabwe': 'Harare',\n",
       " 'South Africa': 'Johannesburg',\n",
       " 'Democratic republic of Congo': 'Zaire',\n",
       " 'Burundi': 'Bujumbura'}"
      ]
     },
     "execution_count": 9,
     "metadata": {},
     "output_type": "execute_result"
    }
   ],
   "source": [
    "#To add more items to the dict use the update()\n",
    "more_capitals = {\"Zimbabwe\":\"Harare\",\"South Africa\":\"Johannesburg\",\n",
    "                \"Democratic republic of Congo\":\"Zaire\",\"Burundi\":\"Bujumbura\"}\n",
    "more_capitals"
   ]
  },
  {
   "cell_type": "code",
   "execution_count": 10,
   "metadata": {},
   "outputs": [],
   "source": [
    "capitals.update(more_capitals)  #adding new items"
   ]
  },
  {
   "cell_type": "code",
   "execution_count": 11,
   "metadata": {},
   "outputs": [
    {
     "data": {
      "text/plain": [
       "{'United States': 'Washington,DC',\n",
       " 'Kenya': 'Nairobi',\n",
       " 'Rwanda': 'Kigali',\n",
       " 'Gambia': 'Bangui',\n",
       " 'Nigeria': 'Abuja',\n",
       " 'Tanzania': 'Dodoma',\n",
       " 'Uganda': 'Kampala',\n",
       " 'South Sudan': 'Juba',\n",
       " 'Zimbabwe': 'Harare',\n",
       " 'South Africa': 'Johannesburg',\n",
       " 'Democratic republic of Congo': 'Zaire',\n",
       " 'Burundi': 'Bujumbura'}"
      ]
     },
     "execution_count": 11,
     "metadata": {},
     "output_type": "execute_result"
    }
   ],
   "source": [
    "capitals"
   ]
  },
  {
   "cell_type": "code",
   "execution_count": 13,
   "metadata": {},
   "outputs": [],
   "source": [
    "del capitals['United States']"
   ]
  },
  {
   "cell_type": "code",
   "execution_count": 15,
   "metadata": {},
   "outputs": [
    {
     "data": {
      "text/plain": [
       "{(7, 15): 'Michelle', (3, 14): 'Albert'}"
      ]
     },
     "execution_count": 15,
     "metadata": {},
     "output_type": "execute_result"
    }
   ],
   "source": [
    "birthdays = {(7,15):'Michelle',(3,14):'Albert'}\n",
    "birthdays"
   ]
  },
  {
   "cell_type": "code",
   "execution_count": 16,
   "metadata": {},
   "outputs": [
    {
     "data": {
      "text/plain": [
       "'Michelle'"
      ]
     },
     "execution_count": 16,
     "metadata": {},
     "output_type": "execute_result"
    }
   ],
   "source": [
    "birthdays[(7,15)]"
   ]
  },
  {
   "cell_type": "code",
   "execution_count": 18,
   "metadata": {},
   "outputs": [
    {
     "data": {
      "text/plain": [
       "6680714747280853337"
      ]
     },
     "execution_count": 18,
     "metadata": {},
     "output_type": "execute_result"
    }
   ],
   "source": [
    "#hash shows the internal representation of the keys\n",
    "hash('Italy')"
   ]
  },
  {
   "cell_type": "code",
   "execution_count": 19,
   "metadata": {},
   "outputs": [
    {
     "data": {
      "text/plain": [
       "-2471369287409462312"
      ]
     },
     "execution_count": 19,
     "metadata": {},
     "output_type": "execute_result"
    }
   ],
   "source": [
    "hash((7,15))"
   ]
  },
  {
   "cell_type": "code",
   "execution_count": 29,
   "metadata": {},
   "outputs": [
    {
     "name": "stdout",
     "output_type": "stream",
     "text": [
      "Kenya ____ Nairobi\n",
      "Rwanda ____ Kigali\n",
      "Gambia ____ Bangui\n",
      "Nigeria ____ Abuja\n",
      "Tanzania ____ Dodoma\n",
      "Uganda ____ Kampala\n",
      "South Sudan ____ Juba\n",
      "Zimbabwe ____ Harare\n",
      "South Africa ____ Johannesburg\n",
      "Democratic republic of Congo ____ Zaire\n",
      "Burundi ____ Bujumbura\n"
     ]
    }
   ],
   "source": [
    "#looping over a dictionary\n",
    "for country,capital in capitals.items():\n",
    "    print(country,\"____\",capital)\n",
    "    "
   ]
  },
  {
   "cell_type": "markdown",
   "metadata": {},
   "source": [
    "#### Syntax (Looping over python dictionaries)\n",
    "* for key in dictionary:\n",
    "* for key in dictionary.keys():\n",
    "* for value in dictionary.values():\n",
    "* for key,value in dictionary.items():"
   ]
  },
  {
   "cell_type": "code",
   "execution_count": 30,
   "metadata": {},
   "outputs": [
    {
     "data": {
      "text/plain": [
       "{'Africa', 'America', 'Asia', 'Europe', 'Oceania'}"
      ]
     },
     "execution_count": 30,
     "metadata": {},
     "output_type": "execute_result"
    }
   ],
   "source": [
    "continents = {\"Africa\",\"America\",\"Europe\",\"Asia\",\"Oceania\"}\n",
    "continents"
   ]
  },
  {
   "cell_type": "code",
   "execution_count": 32,
   "metadata": {},
   "outputs": [
    {
     "data": {
      "text/plain": [
       "True"
      ]
     },
     "execution_count": 32,
     "metadata": {},
     "output_type": "execute_result"
    }
   ],
   "source": [
    "'Africa' in continents"
   ]
  },
  {
   "cell_type": "code",
   "execution_count": 33,
   "metadata": {},
   "outputs": [
    {
     "data": {
      "text/plain": [
       "{'Africa', 'America', 'Antarctica', 'Asia', 'Europe', 'Oceania'}"
      ]
     },
     "execution_count": 33,
     "metadata": {},
     "output_type": "execute_result"
    }
   ],
   "source": [
    "continents.add('Antarctica')\n",
    "continents"
   ]
  },
  {
   "cell_type": "code",
   "execution_count": 34,
   "metadata": {},
   "outputs": [],
   "source": [
    "continents.remove('Oceania')"
   ]
  },
  {
   "cell_type": "code",
   "execution_count": 35,
   "metadata": {},
   "outputs": [
    {
     "data": {
      "text/plain": [
       "{'Africa', 'America', 'Antarctica', 'Asia', 'Europe'}"
      ]
     },
     "execution_count": 35,
     "metadata": {},
     "output_type": "execute_result"
    }
   ],
   "source": [
    "continents"
   ]
  },
  {
   "cell_type": "code",
   "execution_count": 38,
   "metadata": {},
   "outputs": [
    {
     "name": "stdout",
     "output_type": "stream",
     "text": [
      "Asia\n",
      "Europe\n",
      "Africa\n",
      "Antarctica\n",
      "America\n"
     ]
    }
   ],
   "source": [
    "for c in continents:\n",
    "    print(c)"
   ]
  },
  {
   "cell_type": "markdown",
   "metadata": {},
   "source": [
    "#### End of the Lesson"
   ]
  }
 ],
 "metadata": {
  "kernelspec": {
   "display_name": "Python 3",
   "language": "python",
   "name": "python3"
  },
  "language_info": {
   "codemirror_mode": {
    "name": "ipython",
    "version": 3
   },
   "file_extension": ".py",
   "mimetype": "text/x-python",
   "name": "python",
   "nbconvert_exporter": "python",
   "pygments_lexer": "ipython3",
   "version": "3.8.3"
  }
 },
 "nbformat": 4,
 "nbformat_minor": 4
}
